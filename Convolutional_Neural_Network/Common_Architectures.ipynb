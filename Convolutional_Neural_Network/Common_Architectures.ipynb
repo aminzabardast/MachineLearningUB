{
 "cells": [
  {
   "cell_type": "markdown",
   "metadata": {},
   "source": [
    "# Common Architectures in Convolutional Neural Networks\n",
    "\n",
    "### Amin Zabardast"
   ]
  },
  {
   "cell_type": "markdown",
   "metadata": {},
   "source": [
    "#### Quick review: Convolutional Neural Network\n",
    "\n",
    "Simply described, a Convolutional Neural Network (CNN or ConvNet) is a type of Feed-Forward Artificial Neural Network in which - some of - hidden layers are structured in such a way that their output on a given input is a convoluted version of input data using a kernel.\n",
    "\n",
    "These kind of Neural Networks are powerful in Image Analysis applications because any pixel in an image will be correlated to other pixels in its vicinity and this correlation would be inversely proportional to the distance of pixels. Convolution operation will gather information from a pixel's vicinity to assign some properties to the pixel in form of numerical value. These Numerical values can form low-level features such as edges and corners in first layers and high-level features such as faces and cars in deeper layers."
   ]
  },
  {
   "cell_type": "markdown",
   "metadata": {},
   "source": [
    "#### Architectures are unavoidable\n",
    "\n",
    "Creating a ConvNet, even the simplest one, requires some designing effort. The number of hidden layers, convolution kernel size, max pooling step size are just a few of the properties a ConvNet will have and from this step onward, everything will get more complicated.\n",
    "\n",
    "The design of a ConvNet will have a direct effect on its capabilities. For example, shallow Neural Networks will not have enough non-linearity power to classify a big data space, but on the other hand, very deep neural network are hard to train because of vanishing gradient problem. This will result in an optimization problem. In other words, the architecture of the network will have a big effect on its capabilities. "
   ]
  },
  {
   "cell_type": "markdown",
   "metadata": {},
   "source": [
    "#### Case Studies\n",
    "\n",
    "In this document, we will be analyzing some of the ConvNet Architectures which had the highest performance in their relative time. Many of these architectures have been modeled in common platforms or they have finely tuned programs written in lower-level languages such as C++ to boost their performances.\n",
    "\n",
    "* LeNet (1998)\n",
    "* AlexNet (2012)\n",
    "* VGG (2014)\n",
    "* GoogleNet (2014)\n",
    "* ResNet (2015)\n",
    "\n",
    "Studying these architectures will result in a better understanding of main challenges in Convolutional Neural Networks and provides insights to create a better performing architecture."
   ]
  },
  {
   "cell_type": "markdown",
   "metadata": {},
   "source": [
    "## LeNet"
   ]
  },
  {
   "cell_type": "markdown",
   "metadata": {},
   "source": [
    "The concept of Convolutional layer followed by a Pooling layer is at the heart of LeNet Models. This architecture will be followed by some fully connected (FC) layers for classification.\n",
    "\n",
    "The convolutional layers usually use a $5\\times5$ filer but there are examples of different sizes and pooling layers usually use a $2\\times2$ max pooling or non ad all, however there are examples of $4\\times4$ max pooling layers when in comes to large images."
   ]
  },
  {
   "cell_type": "markdown",
   "metadata": {},
   "source": [
    "<img src=\"imgs/img1.png\"/>\n",
    "<p>Image 1: Architecture of LeNet 5 (Image credits: LeCun, 1998)</p>"
   ]
  }
 ],
 "metadata": {
  "kernelspec": {
   "display_name": "Python 3",
   "language": "python",
   "name": "python3"
  },
  "language_info": {
   "codemirror_mode": {
    "name": "ipython",
    "version": 3
   },
   "file_extension": ".py",
   "mimetype": "text/x-python",
   "name": "python",
   "nbconvert_exporter": "python",
   "pygments_lexer": "ipython3",
   "version": "3.6.2"
  }
 },
 "nbformat": 4,
 "nbformat_minor": 2
}
